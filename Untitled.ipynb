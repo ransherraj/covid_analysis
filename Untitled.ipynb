{
 "cells": [
  {
   "cell_type": "markdown",
   "metadata": {},
   "source": [
    "# K-fold"
   ]
  },
  {
   "cell_type": "code",
   "execution_count": 1,
   "metadata": {},
   "outputs": [
    {
     "name": "stdout",
     "output_type": "stream",
     "text": [
      "[0.8418079096045198]\n",
      "0.8418079096045198\n"
     ]
    },
    {
     "data": {
      "text/plain": [
       "LogisticRegression(C=1.0, class_weight=None, dual=False, fit_intercept=True,\n",
       "                   intercept_scaling=1, l1_ratio=None, max_iter=100,\n",
       "                   multi_class='warn', n_jobs=None, penalty='l2',\n",
       "                   random_state=None, solver='liblinear', tol=0.0001, verbose=0,\n",
       "                   warm_start=False)"
      ]
     },
     "execution_count": 1,
     "metadata": {},
     "output_type": "execute_result"
    }
   ],
   "source": [
    "from sklearn.model_selection import KFold\n",
    "from sklearn.linear_model import LogisticRegression\n",
    "import pandas as pd\n",
    "import numpy as np\n",
    "df = pd.read_csv('titanic_2.csv')\n",
    "df['male'] = df['Sex'] == 'male'\n",
    "X = df[['Pclass','male','Age','Siblings/Spouses Aboard','Parents/Children Aboard','Fare']].values\n",
    "y = df['Survived'].values\n",
    "scores = []\n",
    "kf = KFold(n_splits=5)\n",
    "for train_index,test_index in kf.split(X):\n",
    "    X_train,X_test = X[train_index],X[test_index]\n",
    "    y_train,y_test = y[train_index],y[test_index]\n",
    "model = LogisticRegression(solver='liblinear')\n",
    "model.fit(X_train,y_train)\n",
    "scores.append(model.score(X_test,y_test))\n",
    "print(scores)\n",
    "print(np.mean(scores))\n",
    "final_model = LogisticRegression(solver='liblinear')\n",
    "final_model.fit(X,y)\n",
    "\n",
    "\n"
   ]
  },
  {
   "cell_type": "markdown",
   "metadata": {},
   "source": [
    "# Model Comparision"
   ]
  },
  {
   "cell_type": "code",
   "execution_count": 5,
   "metadata": {},
   "outputs": [
    {
     "name": "stdout",
     "output_type": "stream",
     "text": [
      "accuracy:  nan\n",
      "precision:  nan\n",
      "recall score:  nan\n",
      "f1 score:  nan\n",
      "\n",
      "\n",
      "Logistic Regression with all features :\n",
      "Logistic Regression with Pclass, Sex, Age: \n",
      "Logistic Regression with Fare and Age: \n"
     ]
    },
    {
     "name": "stderr",
     "output_type": "stream",
     "text": [
      "C:\\Users\\RANSHER RAJ\\Anaconda3\\lib\\site-packages\\numpy\\core\\fromnumeric.py:3118: RuntimeWarning: Mean of empty slice.\n",
      "  out=out, **kwargs)\n",
      "C:\\Users\\RANSHER RAJ\\Anaconda3\\lib\\site-packages\\numpy\\core\\_methods.py:85: RuntimeWarning: invalid value encountered in double_scalars\n",
      "  ret = ret.dtype.type(ret / rcount)\n",
      "C:\\Users\\RANSHER RAJ\\Anaconda3\\lib\\site-packages\\sklearn\\metrics\\classification.py:1437: UndefinedMetricWarning: Precision is ill-defined and being set to 0.0 due to no predicted samples.\n",
      "  'precision', 'predicted', average, warn_for)\n",
      "C:\\Users\\RANSHER RAJ\\Anaconda3\\lib\\site-packages\\sklearn\\metrics\\classification.py:1437: UndefinedMetricWarning: F-score is ill-defined and being set to 0.0 due to no predicted samples.\n",
      "  'precision', 'predicted', average, warn_for)\n"
     ]
    }
   ],
   "source": [
    "from sklearn.model_selection import KFold\n",
    "from sklearn.linear_model import LogisticRegression\n",
    "import pandas as pd\n",
    "import numpy as np\n",
    "df = pd.read_csv('titanic_2.csv')\n",
    "df['male'] = df['Sex'] == 'male'\n",
    "from sklearn.metrics import accuracy_score, precision_score, recall_score, f1_score\n",
    "kf = KFold(n_splits=5,shuffle=True)\n",
    "\n",
    "X1 = df[['Pclass','male','Age','Siblings/Spouses Aboard','Parents/Children Aboard','Fare']].head().values\n",
    "X2 = df[['Pclass','male','Age']].head().values\n",
    "X3 = df[['Fare','Age']].head().values\n",
    "y = df['Survived'].head().values\n",
    "\n",
    "\n",
    "\n",
    "def score_model(X,y,kf):\n",
    "    accuracy_scores = []\n",
    "    precision_scores = []\n",
    "    recall_scores = []\n",
    "    f1_scores = []\n",
    "    \n",
    "    for train_index, test_index in kf.split(X):\n",
    "        X_train, X_test = X[train_index],X[test_index]\n",
    "        y_train, y_test = y[train_index],y[test_index]\n",
    "        model = LogisticRegression(solver='liblinear')\n",
    "        model.fit(X_train,y_train)\n",
    "        y_pred = model.predict(X_test)\n",
    "        \n",
    "    accuracy_scores.append(accuracy_score(y_test,y_pred))\n",
    "    precision_scores.append(precision_score(y_test,y_pred))\n",
    "    recall_scores.append(recall_score(y_test,y_pred))\n",
    "    f1_scores.append(f1_score(y_test,y_pred))\n",
    "\n",
    "print(\"accuracy: \", np.mean(accuracy_scores))\n",
    "print(\"precision: \", np.mean(precision_scores))\n",
    "print(\"recall score: \", np.mean(recall_scores))\n",
    "print(\"f1 score: \", np.mean(f1_scores))\n",
    "\n",
    "print(\"\\n\")\n",
    "\n",
    "print(\"Logistic Regression with all features :\")\n",
    "score_model(X1,y,kf)\n",
    "print(\"Logistic Regression with Pclass, Sex, Age: \")\n",
    "score_model(X2,y,kf)\n",
    "print(\"Logistic Regression with Fare and Age: \")\n",
    "score_model(X3,y,kf)\n",
    "\n"
   ]
  },
  {
   "cell_type": "code",
   "execution_count": null,
   "metadata": {},
   "outputs": [],
   "source": []
  },
  {
   "cell_type": "code",
   "execution_count": null,
   "metadata": {},
   "outputs": [],
   "source": []
  },
  {
   "cell_type": "code",
   "execution_count": null,
   "metadata": {},
   "outputs": [],
   "source": []
  },
  {
   "cell_type": "code",
   "execution_count": null,
   "metadata": {},
   "outputs": [],
   "source": []
  },
  {
   "cell_type": "code",
   "execution_count": null,
   "metadata": {},
   "outputs": [],
   "source": []
  }
 ],
 "metadata": {
  "kernelspec": {
   "display_name": "Python 3",
   "language": "python",
   "name": "python3"
  },
  "language_info": {
   "codemirror_mode": {
    "name": "ipython",
    "version": 3
   },
   "file_extension": ".py",
   "mimetype": "text/x-python",
   "name": "python",
   "nbconvert_exporter": "python",
   "pygments_lexer": "ipython3",
   "version": "3.7.4"
  }
 },
 "nbformat": 4,
 "nbformat_minor": 2
}
