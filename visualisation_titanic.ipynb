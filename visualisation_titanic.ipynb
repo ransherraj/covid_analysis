{
 "cells": [
  {
   "cell_type": "code",
   "execution_count": 1,
   "metadata": {},
   "outputs": [],
   "source": [
    "# Data trapping"
   ]
  },
  {
   "cell_type": "code",
   "execution_count": 2,
   "metadata": {
    "scrolled": true
   },
   "outputs": [
    {
     "name": "stdout",
     "output_type": "stream",
     "text": [
      "   survived  pclass     sex   age  sibsp  parch     fare embarked  class  \\\n",
      "0         0       3    male  22.0      1      0   7.2500        S  Third   \n",
      "1         1       1  female  38.0      1      0  71.2833        C  First   \n",
      "2         1       3  female  26.0      0      0   7.9250        S  Third   \n",
      "3         1       1  female  35.0      1      0  53.1000        S  First   \n",
      "4         0       3    male  35.0      0      0   8.0500        S  Third   \n",
      "\n",
      "     who  adult_male deck  embark_town alive  alone  \n",
      "0    man        True  NaN  Southampton    no  False  \n",
      "1  woman       False    C    Cherbourg   yes  False  \n",
      "2  woman       False  NaN  Southampton   yes   True  \n",
      "3  woman       False    C  Southampton   yes  False  \n",
      "4    man        True  NaN  Southampton    no   True  \n"
     ]
    }
   ],
   "source": [
    "import pandas as pd                         #Data visualisation\n",
    "df = pd.read_csv('titanic.csv')             #This case file is present in same folder\n",
    "print(df.head())                         #head() function prints only 5 elements or rows"
   ]
  },
  {
   "cell_type": "code",
   "execution_count": null,
   "metadata": {},
   "outputs": [],
   "source": []
  },
  {
   "cell_type": "code",
   "execution_count": 3,
   "metadata": {},
   "outputs": [
    {
     "name": "stdout",
     "output_type": "stream",
     "text": [
      "         survived      pclass         age       sibsp       parch        fare\n",
      "count  891.000000  891.000000  714.000000  891.000000  891.000000  891.000000\n",
      "mean     0.383838    2.308642   29.699118    0.523008    0.381594   32.204208\n",
      "std      0.486592    0.836071   14.526497    1.102743    0.806057   49.693429\n",
      "min      0.000000    1.000000    0.420000    0.000000    0.000000    0.000000\n",
      "25%      0.000000    2.000000   20.125000    0.000000    0.000000    7.910400\n",
      "50%      0.000000    3.000000   28.000000    0.000000    0.000000   14.454200\n",
      "75%      1.000000    3.000000   38.000000    1.000000    0.000000   31.000000\n",
      "max      1.000000    3.000000   80.000000    8.000000    6.000000  512.329200\n"
     ]
    }
   ],
   "source": [
    "pd.options.display.max_columns=6\n",
    "print(df.describe())                                            #use of describe function to determine statatical analysis"
   ]
  },
  {
   "cell_type": "code",
   "execution_count": 4,
   "metadata": {},
   "outputs": [
    {
     "name": "stdout",
     "output_type": "stream",
     "text": [
      "0      22.0\n",
      "1      38.0\n",
      "2      26.0\n",
      "3      35.0\n",
      "4      35.0\n",
      "       ... \n",
      "886    27.0\n",
      "887    19.0\n",
      "888     NaN\n",
      "889    26.0\n",
      "890    32.0\n",
      "Name: age, Length: 891, dtype: float64\n"
     ]
    }
   ],
   "source": [
    "import numpy as np  #numpy for statatical analysis(bit more code requires than pandas)\n",
    "data = df['age']\n",
    "print(data)"
   ]
  },
  {
   "cell_type": "code",
   "execution_count": 5,
   "metadata": {},
   "outputs": [
    {
     "name": "stdout",
     "output_type": "stream",
     "text": [
      "mean= 29.69911764705882\n",
      "median= nan\n",
      "50th percentile(median)= nan\n",
      "25th percentile(median)= nan\n",
      "75th percentile(median)= nan\n",
      "standard deviation= 14.516321150817317\n",
      "Variance= 210.7235797536662\n"
     ]
    },
    {
     "name": "stderr",
     "output_type": "stream",
     "text": [
      "C:\\Users\\RANSHER RAJ\\Anaconda3\\lib\\site-packages\\numpy\\lib\\function_base.py:3405: RuntimeWarning: Invalid value encountered in median\n",
      "  r = func(a, **kwargs)\n",
      "C:\\Users\\RANSHER RAJ\\Anaconda3\\lib\\site-packages\\numpy\\lib\\function_base.py:3826: RuntimeWarning: Invalid value encountered in percentile\n",
      "  interpolation=interpolation)\n"
     ]
    }
   ],
   "source": [
    "print(\"mean=\",np.mean(data))\n",
    "print(\"median=\",np.median(data))\n",
    "print(\"50th percentile(median)=\",np.percentile(data,50))\n",
    "print(\"25th percentile(median)=\",np.percentile(data,25))\n",
    "print(\"75th percentile(median)=\",np.percentile(data,75))\n",
    "print(\"standard deviation=\",np.std(data))\n",
    "print(\"Variance=\",np.var(data))"
   ]
  },
  {
   "cell_type": "code",
   "execution_count": 6,
   "metadata": {},
   "outputs": [
    {
     "name": "stdout",
     "output_type": "stream",
     "text": [
      "    age     sex  survived\n",
      "0  22.0    male         0\n",
      "1  38.0  female         1\n",
      "2  26.0  female         1\n",
      "3  35.0  female         1\n",
      "4  35.0    male         0\n",
      "0    22.0\n",
      "1    38.0\n",
      "2    26.0\n",
      "3    35.0\n",
      "4    35.0\n",
      "Name: age, dtype: float64\n"
     ]
    }
   ],
   "source": [
    "\n",
    "small_df=df[['age','sex','survived']]                                #statatics using numpy using data from csv file\n",
    "print(small_df.head())                                               \n",
    "df2=small_df['age']                                                  # Generating subframes\n",
    "data2=df2.head()\n",
    "print(data2)\n"
   ]
  },
  {
   "cell_type": "code",
   "execution_count": 7,
   "metadata": {},
   "outputs": [
    {
     "name": "stdout",
     "output_type": "stream",
     "text": [
      "mean= 31.2\n",
      "median= 35.0\n",
      "50th percentile(median)= 35.0\n",
      "25th percentile(median)= 26.0\n",
      "75th percentile(median)= 35.0\n",
      "standard deviation= 6.11228271597445\n",
      "Variance= 37.36\n"
     ]
    }
   ],
   "source": [
    "print(\"mean=\",np.mean(data2))                                            #statatics using numpy using data from csv file\n",
    "print(\"median=\",np.median(data2))\n",
    "print(\"50th percentile(median)=\",np.percentile(data2,50))\n",
    "print(\"25th percentile(median)=\",np.percentile(data2,25))\n",
    "print(\"75th percentile(median)=\",np.percentile(data2,75))\n",
    "print(\"standard deviation=\",np.std(data2))\n",
    "print(\"Variance=\",np.var(data2))"
   ]
  },
  {
   "cell_type": "code",
   "execution_count": 8,
   "metadata": {
    "scrolled": true
   },
   "outputs": [
    {
     "name": "stdout",
     "output_type": "stream",
     "text": [
      "     survived  pclass     sex  ...  alive  alone   male\n",
      "0           0       3    male  ...     no  False   True\n",
      "1           1       1  female  ...    yes  False  False\n",
      "2           1       3  female  ...    yes   True  False\n",
      "3           1       1  female  ...    yes  False  False\n",
      "4           0       3    male  ...     no   True   True\n",
      "..        ...     ...     ...  ...    ...    ...    ...\n",
      "886         0       2    male  ...     no   True   True\n",
      "887         1       1  female  ...    yes   True  False\n",
      "888         0       3  female  ...     no  False  False\n",
      "889         1       1    male  ...    yes   True   True\n",
      "890         0       3    male  ...     no   True   True\n",
      "\n",
      "[891 rows x 16 columns]\n"
     ]
    }
   ],
   "source": [
    "                          #creating dartaframe column of true and false in sex column of df\n",
    "df['male']=df['sex']=='male'\n",
    "print(df)\n"
   ]
  },
  {
   "cell_type": "code",
   "execution_count": null,
   "metadata": {},
   "outputs": [],
   "source": []
  },
  {
   "cell_type": "code",
   "execution_count": 9,
   "metadata": {},
   "outputs": [
    {
     "name": "stdout",
     "output_type": "stream",
     "text": [
      "[  7.25    71.2833   7.925   53.1      8.05     8.4583  51.8625  21.075\n",
      "  11.1333  30.0708  16.7     26.55     8.05    31.275    7.8542  16.\n",
      "  29.125   13.      18.       7.225   26.      13.       8.0292  35.5\n",
      "  21.075   31.3875   7.225  263.       7.8792   7.8958  27.7208 146.5208\n",
      "   7.75    10.5     82.1708  52.       7.2292   8.05    18.      11.2417\n",
      "   9.475   21.       7.8958  41.5792   7.8792   8.05    15.5      7.75\n",
      "  21.6792  17.8     39.6875   7.8     76.7292  26.      61.9792  35.5\n",
      "  10.5      7.2292  27.75    46.9      7.2292  80.      83.475   27.9\n",
      "  27.7208  15.2458  10.5      8.1583   7.925    8.6625  10.5     46.9\n",
      "  73.5     14.4542  56.4958   7.65     7.8958   8.05    29.      12.475\n",
      "   9.       9.5      7.7875  47.1     10.5     15.85    34.375    8.05\n",
      " 263.       8.05     8.05     7.8542  61.175   20.575    7.25     8.05\n",
      "  34.6542  63.3583  23.      26.       7.8958   7.8958  77.2875   8.6542\n",
      "   7.925    7.8958   7.65     7.775    7.8958  24.15    52.      14.4542\n",
      "   8.05     9.825   14.4583   7.925    7.75    21.     247.5208  31.275\n",
      "  73.5      8.05    30.0708  13.      77.2875  11.2417   7.75     7.1417\n",
      "  22.3583   6.975    7.8958   7.05    14.5     26.      13.      15.0458\n",
      "  26.2833  53.1      9.2167  79.2     15.2458   7.75    15.85     6.75\n",
      "  11.5     36.75     7.7958  34.375   26.      13.      12.525   66.6\n",
      "   8.05    14.5      7.3125  61.3792   7.7333   8.05     8.6625  69.55\n",
      "  16.1     15.75     7.775    8.6625  39.6875  20.525   55.      27.9\n",
      "  25.925   56.4958  33.5     29.125   11.1333   7.925   30.6958   7.8542\n",
      "  25.4667  28.7125  13.       0.      69.55    15.05    31.3875  39.\n",
      "  22.025   50.      15.5     26.55    15.5      7.8958  13.      13.\n",
      "   7.8542  26.      27.7208 146.5208   7.75     8.4042   7.75    13.\n",
      "   9.5     69.55     6.4958   7.225    8.05    10.4625  15.85    18.7875\n",
      "   7.75    31.       7.05    21.       7.25    13.       7.75   113.275\n",
      "   7.925   27.      76.2917  10.5      8.05    13.       8.05     7.8958\n",
      "  90.       9.35    10.5      7.25    13.      25.4667  83.475    7.775\n",
      "  13.5     31.3875  10.5      7.55    26.      26.25    10.5     12.275\n",
      "  14.4542  15.5     10.5      7.125    7.225   90.       7.775   14.5\n",
      "  52.5542  26.       7.25    10.4625  26.55    16.1     20.2125  15.2458\n",
      "  79.2     86.5    512.3292  26.       7.75    31.3875  79.65     0.\n",
      "   7.75    10.5     39.6875   7.775  153.4625 135.6333  31.       0.\n",
      "  19.5     29.7      7.75    77.9583   7.75     0.      29.125   20.25\n",
      "   7.75     7.8542   9.5      8.05    26.       8.6625   9.5      7.8958\n",
      "  13.       7.75    78.85    91.0792  12.875    8.85     7.8958  27.7208\n",
      "   7.2292 151.55    30.5    247.5208   7.75    23.25     0.      12.35\n",
      "   8.05   151.55   110.8833 108.9     24.      56.9292  83.1583 262.375\n",
      "  26.       7.8958  26.25     7.8542  26.      14.     164.8667 134.5\n",
      "   7.25     7.8958  12.35    29.      69.55   135.6333   6.2375  13.\n",
      "  20.525   57.9792  23.25    28.5    153.4625  18.     133.65     7.8958\n",
      "  66.6    134.5      8.05    35.5     26.     263.      13.      13.\n",
      "  13.      13.      13.      16.1     15.9      8.6625   9.225   35.\n",
      "   7.2292  17.8      7.225    9.5     55.      13.       7.8792   7.8792\n",
      "  27.9     27.7208  14.4542   7.05    15.5      7.25    75.25     7.2292\n",
      "   7.75    69.3     55.4417   6.4958   8.05   135.6333  21.075   82.1708\n",
      "   7.25   211.5      4.0125   7.775  227.525   15.7417   7.925   52.\n",
      "   7.8958  73.5     46.9     13.       7.7292  12.     120.       7.7958\n",
      "   7.925  113.275   16.7      7.7958   7.8542  26.      10.5     12.65\n",
      "   7.925    8.05     9.825   15.85     8.6625  21.       7.75    18.75\n",
      "   7.775   25.4667   7.8958   6.8583  90.       0.       7.925    8.05\n",
      "  32.5     13.      13.      24.15     7.8958   7.7333   7.875   14.4\n",
      "  20.2125   7.25    26.      26.       7.75     8.05    26.55    16.1\n",
      "  26.       7.125   55.9    120.      34.375   18.75   263.      10.5\n",
      "  26.25     9.5      7.775   13.       8.1125  81.8583  19.5     26.55\n",
      "  19.2583  30.5     27.75    19.9667  27.75    89.1042   8.05     7.8958\n",
      "  26.55    51.8625  10.5      7.75    26.55     8.05    38.5     13.\n",
      "   8.05     7.05     0.      26.55     7.725   19.2583   7.25     8.6625\n",
      "  27.75    13.7917   9.8375  52.      21.       7.0458   7.5208  12.2875\n",
      "  46.9      0.       8.05     9.5875  91.0792  25.4667  90.      29.7\n",
      "   8.05    15.9     19.9667   7.25    30.5     49.5042   8.05    14.4583\n",
      "  78.2667  15.1    151.55     7.7958   8.6625   7.75     7.6292   9.5875\n",
      "  86.5    108.9     26.      26.55    22.525   56.4958   7.75     8.05\n",
      "  26.2875  59.4      7.4958  34.0208  10.5     24.15    26.       7.8958\n",
      "  93.5      7.8958   7.225   57.9792   7.2292   7.75    10.5    221.7792\n",
      "   7.925   11.5     26.       7.2292   7.2292  22.3583   8.6625  26.25\n",
      "  26.55   106.425   14.5     49.5     71.      31.275   31.275   26.\n",
      " 106.425   26.      26.      13.8625  20.525   36.75   110.8833  26.\n",
      "   7.8292   7.225    7.775   26.55    39.6    227.525   79.65    17.4\n",
      "   7.75     7.8958  13.5      8.05     8.05    24.15     7.8958  21.075\n",
      "   7.2292   7.8542  10.5     51.4792  26.3875   7.75     8.05    14.5\n",
      "  13.      55.9     14.4583   7.925   30.     110.8833  26.      40.125\n",
      "   8.7125  79.65    15.      79.2      8.05     8.05     7.125   78.2667\n",
      "   7.25     7.75    26.      24.15    33.       0.       7.225   56.9292\n",
      "  27.       7.8958  42.4      8.05    26.55    15.55     7.8958  30.5\n",
      "  41.5792 153.4625  31.275    7.05    15.5      7.75     8.05    65.\n",
      "  14.4     16.1     39.      10.5     14.4542  52.5542  15.7417   7.8542\n",
      "  16.1     32.3208  12.35    77.9583   7.8958   7.7333  30.       7.0542\n",
      "  30.5      0.      27.9     13.       7.925   26.25    39.6875  16.1\n",
      "   7.8542  69.3     27.9     56.4958  19.2583  76.7292   7.8958  35.5\n",
      "   7.55     7.55     7.8958  23.       8.4333   7.8292   6.75    73.5\n",
      "   7.8958  15.5     13.     113.275  133.65     7.225   25.5875   7.4958\n",
      "   7.925   73.5     13.       7.775    8.05    52.      39.      52.\n",
      "  10.5     13.       0.       7.775    8.05     9.8417  46.9    512.3292\n",
      "   8.1375  76.7292   9.225   46.9     39.      41.5792  39.6875  10.1708\n",
      "   7.7958 211.3375  57.      13.4167  56.4958   7.225   26.55    13.5\n",
      "   8.05     7.7333 110.8833   7.65   227.525   26.2875  14.4542   7.7417\n",
      "   7.8542  26.      13.5     26.2875 151.55    15.2458  49.5042  26.55\n",
      "  52.       9.4833  13.       7.65   227.525   10.5     15.5      7.775\n",
      "  33.       7.0542  13.      13.      53.1      8.6625  21.       7.7375\n",
      "  26.       7.925  211.3375  18.7875   0.      13.      13.      16.1\n",
      "  34.375  512.3292   7.8958   7.8958  30.      78.85   262.375   16.1\n",
      "   7.925   71.      20.25    13.      53.1      7.75    23.      12.475\n",
      "   9.5      7.8958  65.      14.5      7.7958  11.5      8.05    86.5\n",
      "  14.5      7.125    7.2292 120.       7.775   77.9583  39.6      7.75\n",
      "  24.15     8.3625   9.5      7.8542  10.5      7.225   23.       7.75\n",
      "   7.75    12.475    7.7375 211.3375   7.2292  57.      30.      23.45\n",
      "   7.05     7.25     7.4958  29.125   20.575   79.2      7.75    26.\n",
      "  69.55    30.6958   7.8958  13.      25.9292   8.6833   7.2292  24.15\n",
      "  13.      26.25   120.       8.5167   6.975    7.775    0.       7.775\n",
      "  13.      53.1      7.8875  24.15    10.5     31.275    8.05     0.\n",
      "   7.925   37.0042   6.45    27.9     93.5      8.6625   0.      12.475\n",
      "  39.6875   6.95    56.4958  37.0042   7.75    80.      14.4542  18.75\n",
      "   7.2292   7.8542   8.3     83.1583   8.6625   8.05    56.4958  29.7\n",
      "   7.925   10.5     31.       6.4375   8.6625   7.55    69.55     7.8958\n",
      "  33.      89.1042  31.275    7.775   15.2458  39.4     26.       9.35\n",
      " 164.8667  26.55    19.2583   7.2292  14.1083  11.5     25.9292  69.55\n",
      "  13.      13.      13.8583  50.4958   9.5     11.1333   7.8958  52.5542\n",
      "   5.       9.      24.       7.225    9.8458   7.8958   7.8958  83.1583\n",
      "  26.       7.8958  10.5167  10.5      7.05    29.125   13.      30.\n",
      "  23.45    30.       7.75  ]\n"
     ]
    }
   ],
   "source": [
    "print(df['fare'].values)                              #printing all values of fare in array"
   ]
  },
  {
   "cell_type": "code",
   "execution_count": null,
   "metadata": {},
   "outputs": [],
   "source": []
  },
  {
   "cell_type": "code",
   "execution_count": 10,
   "metadata": {},
   "outputs": [
    {
     "name": "stdout",
     "output_type": "stream",
     "text": [
      "[ 7.25   71.2833  7.925  53.1     8.05  ]\n"
     ]
    }
   ],
   "source": [
    "print(df['fare'].head().values)                #printing only 5 fare using head()"
   ]
  },
  {
   "cell_type": "code",
   "execution_count": 11,
   "metadata": {},
   "outputs": [
    {
     "name": "stdout",
     "output_type": "stream",
     "text": [
      "[[ 3.      7.25   22.    ]\n",
      " [ 1.     71.2833 38.    ]\n",
      " [ 3.      7.925  26.    ]\n",
      " [ 1.     53.1    35.    ]\n",
      " [ 3.      8.05   35.    ]] \n",
      "\n",
      "shape:  (5, 3) \n",
      "\n",
      "<class 'numpy.ndarray'>\n"
     ]
    }
   ],
   "source": [
    "#converting dataframe to data (pandas dataframe to numpy array )\n",
    "data = df[['pclass','fare','age']].head().values                   #If head() is removed, all data will be printed\n",
    "print(data,'\\n')\n",
    "\n",
    "\n",
    "print('shape: ',data.shape,'\\n')                               # actually data is array type hence shape will return dimension\n",
    "print(type(data))"
   ]
  },
  {
   "cell_type": "code",
   "execution_count": 12,
   "metadata": {},
   "outputs": [
    {
     "name": "stdout",
     "output_type": "stream",
     "text": [
      "[ 3.    7.25 22.  ]\n",
      "[22. 38. 26. 35. 35.]\n",
      "[ 1.     71.2833 38.    ]\n",
      "71.2833\n"
     ]
    }
   ],
   "source": [
    "print(data[0])                      #prints first row (index 0)\n",
    "print(data[:,2])                     #prints 3rd column( index 2)\n",
    "print(data[1,:])                     #print 2nd row (index 1)\n",
    "print(data[1,1])                     #prints fixed element at index [1,1]"
   ]
  },
  {
   "cell_type": "code",
   "execution_count": 13,
   "metadata": {},
   "outputs": [
    {
     "name": "stdout",
     "output_type": "stream",
     "text": [
      "[False  True  True  True  True] \n",
      "\n",
      "\n",
      "[[ 1.     71.2833 38.    ]\n",
      " [ 3.      7.925  26.    ]\n",
      " [ 1.     53.1    35.    ]\n",
      " [ 3.      8.05   35.    ]] \n",
      "\n",
      "\n",
      "[[ 1.     71.2833 38.    ]\n",
      " [ 3.      7.925  26.    ]\n",
      " [ 1.     53.1    35.    ]\n",
      " [ 3.      8.05   35.    ]] \n",
      "\n",
      "\n",
      "4\n"
     ]
    }
   ],
   "source": [
    "mask=data[:,2]>=26                                   #masking: process of creating new array of data\n",
    "print(mask,\"\\n\\n\")\n",
    "print(data[mask],\"\\n\\n\")                            #both printing same\n",
    "print(data[data[:,2]>=26],\"\\n\\n\")\n",
    "\n",
    "print((data[:,2]>=26).sum())                        #for counting the data"
   ]
  },
  {
   "cell_type": "markdown",
   "metadata": {},
   "source": [
    "# Sactterplot"
   ]
  },
  {
   "cell_type": "code",
   "execution_count": 14,
   "metadata": {},
   "outputs": [
    {
     "data": {
      "text/plain": [
       "Text(0, 0.5, 'fare')"
      ]
     },
     "execution_count": 14,
     "metadata": {},
     "output_type": "execute_result"
    }
   ],
   "source": [
    "import matplotlib.pyplot as plt\n",
    "plt.scatter(df['age'],df['fare'])\n",
    "plt.xlabel('age')\n",
    "plt.ylabel('fare')"
   ]
  },
  {
   "cell_type": "code",
   "execution_count": 15,
   "metadata": {},
   "outputs": [
    {
     "data": {
      "text/plain": [
       "pandas.core.series.Series"
      ]
     },
     "execution_count": 15,
     "metadata": {},
     "output_type": "execute_result"
    }
   ],
   "source": [
    "type(df['fare'])"
   ]
  },
  {
   "cell_type": "markdown",
   "metadata": {},
   "source": [
    " "
   ]
  },
  {
   "cell_type": "code",
   "execution_count": 16,
   "metadata": {},
   "outputs": [
    {
     "data": {
      "text/plain": [
       "pandas.core.frame.DataFrame"
      ]
     },
     "execution_count": 16,
     "metadata": {},
     "output_type": "execute_result"
    }
   ],
   "source": [
    "type(df)"
   ]
  },
  {
   "cell_type": "code",
   "execution_count": 17,
   "metadata": {},
   "outputs": [],
   "source": [
    "X=df['survived'].head().values"
   ]
  },
  {
   "cell_type": "code",
   "execution_count": 18,
   "metadata": {},
   "outputs": [
    {
     "name": "stdout",
     "output_type": "stream",
     "text": [
      "[0 1 1 1 0]\n"
     ]
    }
   ],
   "source": [
    "print(X)"
   ]
  },
  {
   "cell_type": "code",
   "execution_count": 19,
   "metadata": {},
   "outputs": [
    {
     "name": "stdout",
     "output_type": "stream",
     "text": [
      "[ True False False False  True]\n"
     ]
    }
   ],
   "source": [
    "Y=df['male']=df['sex']=='male'                     #returning Boolean values\n",
    "print(Y.head().values)"
   ]
  },
  {
   "cell_type": "markdown",
   "metadata": {},
   "source": [
    "# Building Logistic Regression Model with sklearn "
   ]
  },
  {
   "cell_type": "code",
   "execution_count": 20,
   "metadata": {},
   "outputs": [
    {
     "name": "stdout",
     "output_type": "stream",
     "text": [
      "[[ 0.26261656 -0.09996329]] [-0.00018963]\n"
     ]
    },
    {
     "name": "stderr",
     "output_type": "stream",
     "text": [
      "C:\\Users\\RANSHER RAJ\\Anaconda3\\lib\\site-packages\\sklearn\\linear_model\\logistic.py:432: FutureWarning: Default solver will be changed to 'lbfgs' in 0.22. Specify a solver to silence this warning.\n",
      "  FutureWarning)\n"
     ]
    }
   ],
   "source": [
    "from sklearn.linear_model import LogisticRegression\n",
    "x=df[['fare','age']].head().values\n",
    "y=df['survived'].head().values\n",
    "model=LogisticRegression()\n",
    "model.fit(x,y)\n",
    "print(model.coef_,model.intercept_)           #as from result we have 0 = 0.26261656x + -0.09996329y + -0.00018963\n",
    "                                              #from the linear equation ax+by+c = 0"
   ]
  },
  {
   "cell_type": "code",
   "execution_count": 21,
   "metadata": {},
   "outputs": [
    {
     "name": "stdout",
     "output_type": "stream",
     "text": [
      "[0 1 0 1 0]\n",
      "[0 1 1 1 0]\n"
     ]
    }
   ],
   "source": [
    "print(model.predict(x))\n",
    "print(y[:5])"
   ]
  },
  {
   "cell_type": "code",
   "execution_count": null,
   "metadata": {},
   "outputs": [],
   "source": []
  },
  {
   "cell_type": "code",
   "execution_count": null,
   "metadata": {},
   "outputs": [],
   "source": []
  }
 ],
 "metadata": {
  "kernelspec": {
   "display_name": "Python 3",
   "language": "python",
   "name": "python3"
  },
  "language_info": {
   "codemirror_mode": {
    "name": "ipython",
    "version": 3
   },
   "file_extension": ".py",
   "mimetype": "text/x-python",
   "name": "python",
   "nbconvert_exporter": "python",
   "pygments_lexer": "ipython3",
   "version": "3.7.4"
  }
 },
 "nbformat": 4,
 "nbformat_minor": 2
}
